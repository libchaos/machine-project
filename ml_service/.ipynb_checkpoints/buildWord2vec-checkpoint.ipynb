{
 "cells": [
  {
   "cell_type": "markdown",
   "metadata": {},
   "source": [
    "# 获取数据"
   ]
  },
  {
   "cell_type": "code",
   "execution_count": 2,
   "metadata": {
    "collapsed": false
   },
   "outputs": [],
   "source": [
    "import os\n",
    "import pandas\n",
    "dataPath = os.path.curdir + './data_process/public/data.csv'\n",
    "data = pandas.read_csv(dataPath)"
   ]
  },
  {
   "cell_type": "code",
   "execution_count": 3,
   "metadata": {
    "collapsed": false
   },
   "outputs": [
    {
     "data": {
      "text/html": [
       "<div>\n",
       "<style>\n",
       "    .dataframe thead tr:only-child th {\n",
       "        text-align: right;\n",
       "    }\n",
       "\n",
       "    .dataframe thead th {\n",
       "        text-align: left;\n",
       "    }\n",
       "\n",
       "    .dataframe tbody tr th {\n",
       "        vertical-align: top;\n",
       "    }\n",
       "</style>\n",
       "<table border=\"1\" class=\"dataframe\">\n",
       "  <thead>\n",
       "    <tr style=\"text-align: right;\">\n",
       "      <th></th>\n",
       "      <th>root</th>\n",
       "      <th>content</th>\n",
       "    </tr>\n",
       "  </thead>\n",
       "  <tbody>\n",
       "    <tr>\n",
       "      <th>0</th>\n",
       "      <td>58d0889bfc277d58f5ec2e4e</td>\n",
       "      <td>女孩   两个月零3天         出生的时候   羊水三度污染            ...</td>\n",
       "    </tr>\n",
       "    <tr>\n",
       "      <th>1</th>\n",
       "      <td>58d0d2e0fc277d58f5ec3d52</td>\n",
       "      <td>您好，我家宝宝75天，近20天来不好好吃奶，每次吃不到10分钟就想睡觉或者东看西看不专心吃了...</td>\n",
       "    </tr>\n",
       "    <tr>\n",
       "      <th>2</th>\n",
       "      <td>58d07647fc277d58f5ec2a73</td>\n",
       "      <td>宝宝换2段奶粉后就开始拉肚子，上儿童医院也开了药也不是很管用，而且现在还吐…今天尿的和米汤一...</td>\n",
       "    </tr>\n",
       "    <tr>\n",
       "      <th>3</th>\n",
       "      <td>58d1d3d2fc277d58f5ec54da</td>\n",
       "      <td>你好，宝宝四个月，纯奶粉，可以吃妞贝乐乳铁蛋白吗，想给宝宝增强抵抗了宝妈您好。这个不建议给宝...</td>\n",
       "    </tr>\n",
       "    <tr>\n",
       "      <th>4</th>\n",
       "      <td>58d0b052fc277d58f5ec36f7</td>\n",
       "      <td>我是一名乙肝病毒携带者孕妇，由于我的肝功能异常，我从怀孕十二周就开始吃促肝细胞生长素肠溶胶囊...</td>\n",
       "    </tr>\n",
       "  </tbody>\n",
       "</table>\n",
       "</div>"
      ],
      "text/plain": [
       "                       root                                            content\n",
       "0  58d0889bfc277d58f5ec2e4e  女孩   两个月零3天         出生的时候   羊水三度污染            ...\n",
       "1  58d0d2e0fc277d58f5ec3d52  您好，我家宝宝75天，近20天来不好好吃奶，每次吃不到10分钟就想睡觉或者东看西看不专心吃了...\n",
       "2  58d07647fc277d58f5ec2a73  宝宝换2段奶粉后就开始拉肚子，上儿童医院也开了药也不是很管用，而且现在还吐…今天尿的和米汤一...\n",
       "3  58d1d3d2fc277d58f5ec54da  你好，宝宝四个月，纯奶粉，可以吃妞贝乐乳铁蛋白吗，想给宝宝增强抵抗了宝妈您好。这个不建议给宝...\n",
       "4  58d0b052fc277d58f5ec36f7  我是一名乙肝病毒携带者孕妇，由于我的肝功能异常，我从怀孕十二周就开始吃促肝细胞生长素肠溶胶囊..."
      ]
     },
     "execution_count": 3,
     "metadata": {},
     "output_type": "execute_result"
    }
   ],
   "source": [
    "data.head()"
   ]
  },
  {
   "cell_type": "markdown",
   "metadata": {},
   "source": [
    "# 处理content数据\n",
    "- 利用jieba分词，生成分词文件data.seg"
   ]
  },
  {
   "cell_type": "code",
   "execution_count": 35,
   "metadata": {
    "collapsed": false
   },
   "outputs": [
    {
     "name": "stderr",
     "output_type": "stream",
     "text": [
      "Building prefix dict from /Users/mac/projects/machine-projects/jupyter/userDict.txt ...\n",
      "Dumping model to file cache /var/folders/j3/ky6z0t9x6531rbr4wq0l3_q00000gn/T/jieba.u7bb42074136d70b8db2a92d4966e82ff.cache\n",
      "Loading model cost 0.003 seconds.\n",
      "Prefix dict has been built succesfully.\n"
     ]
    }
   ],
   "source": [
    "import jieba\n",
    "jieba.set_dictionary('userDict.txt')\n",
    "def filter(input_text):\n",
    "    for token in jieba.cut(input_text):\n",
    "        if token not in \",.?;'[]()`~!@#$%^&*/+_-=<>{}:，。？！·；：‘“、\\\"\\ \":\n",
    "            yield token\n",
    "\n",
    "mycut = lambda s: list(filter(s))\n",
    "sentences = data['content'].apply(mycut)"
   ]
  },
  {
   "cell_type": "code",
   "execution_count": 36,
   "metadata": {
    "collapsed": false
   },
   "outputs": [
    {
     "data": {
      "text/plain": [
       "pandas.core.series.Series"
      ]
     },
     "execution_count": 36,
     "metadata": {},
     "output_type": "execute_result"
    }
   ],
   "source": [
    "type(sentences)"
   ]
  },
  {
   "cell_type": "code",
   "execution_count": 37,
   "metadata": {
    "collapsed": false
   },
   "outputs": [
    {
     "data": {
      "text/plain": [
       "0    [女孩, 两个, 月, 零, 3, 天, 出生, 的, 时候, 羊水三度, 污染, 剖腹产,...\n",
       "1    [您好, 我家, 宝宝, 75, 天, 近, 20, 天来, 不, 好, 好, 吃, 奶, ...\n",
       "2    [宝宝换, 2, 段, 奶粉, 后, 就, 开始, 拉肚子, 上儿童, 医院, 也, 开, ...\n",
       "3    [你好, 宝宝, 四个, 月, 纯奶粉, 可以, 吃, 妞贝乐, 乳铁蛋白, 吗, 想, 给...\n",
       "4    [我, 是, 一名, 乙肝病毒携带者, 孕妇, 由于, 我, 的, 肝功能, 异常, 我, ...\n",
       "Name: content, dtype: object"
      ]
     },
     "execution_count": 37,
     "metadata": {},
     "output_type": "execute_result"
    }
   ],
   "source": [
    "sentences.head()"
   ]
  },
  {
   "cell_type": "code",
   "execution_count": 46,
   "metadata": {
    "collapsed": false
   },
   "outputs": [
    {
     "name": "stdout",
     "output_type": "stream",
     "text": [
      "/Users/mac/projects/machine-projects/jupyter\n"
     ]
    }
   ],
   "source": [
    "print(os.path.abspath('.'))"
   ]
  },
  {
   "cell_type": "code",
   "execution_count": 52,
   "metadata": {
    "collapsed": false
   },
   "outputs": [
    {
     "name": "stdout",
     "output_type": "stream",
     "text": [
      "frozenset({'谢谢您', 'having', '各自', '举', 'as', 'just', \"mightn't\", 'okay', '何时', '怎么办', '这边', 'well', '的', '看', '虽', '所', '乘', '嗯', 'j', 'allow', '把', \"haven't\", '这样', 'u', 'saying', 'while', 'already', '临', '”', 'probably', 'third', 'underneath', '毋宁', \"couldn't\", '不问', '各种', 'merely', 'want', '冲', 'so', '顺着', '弄成', '与其', 'inc', 'you', \"i've\", 'name', '别', \"one's\", '如', '宁愿', 'everywhere', '基本上', 'mr', '保持', '着', '嘻', '注意', 'beside', 'former', 'hereupon', '正如', 'little', 'over', 'appropriate', 'she', '其它', 'nobody', 'undoing', 'k', '倘或', 'seen', 'often', '靠', '吗', 'her', 'sent', '及其', 'yourself', '按照', '其他', 'unless', 'begin', '照顾', '？', 'last', 'tries', 'qv', '不独', 'consequently', '因为', 'necessary', '点击', '哪怕', 'viz', 'he', '使用', '也好', 'considering', 'entirely', \"shouldn't\", 'especially', 'cannot', 'etc', '网络', 'up', \"we'll\", '地方', '哟', '哼唷', '多', '祝', 'clearly', 'insofar', '呕', \"mustn't\", 'ones', 'thirty', '向着', '纵令', 'their', \"you're\", 'concerning', '高端', '照着', '至于', '呈', '规格', '叮咚', 'among', 'at', 'contains', 'inside', 'other', 's', '因而', 'shall', '一切', 'rd', 'that', 'wants', '要不然', '人家', 'once', 'most', 'be', '第', \"don't\", 'latterly', 'indicates', '鄙人', '何', 'ok', '既然', \"here's\", 'think', 'whereby', '看下', 'theirs', 'o', 'obviously', '或者', \"there're\", 'r', 'things', 'backward', '持', '那里', 'likely', '那些', 'sub', '觉得', '若是', '不如', '其一', '替', '啦', '哇', '由', '从', '与', '》', 'does', 'have', '除了', '咦', '要求', '据', 'regarding', '即或', '那时', 'per', '将', 'been', 'unfortunately', 'were', 'second', '赶', 'end', '样子', '倘若', '让', 'quite', '灰灭', 'from', '想', '以至', 'described', '一则', 'specified', '如上所述', '假使', 'than', 'mine', 'nor', 'p', '星期', '各', '请问', '回的', 'backwards', 'greetings', '的话', '由于', 'his', 'saw', '呃', 'nonetheless', 'new', 'since', '那样', '俺', '考虑', '产品', '唉', '打发', '是', '就是', '所以', '张', '向', '嘿', 'best', '可是', '以至于', 'its', 'lower', '帮到', 'elsewhere', 'inner', '哪个', '由此可见', 'again', '，', '作为', 'sometime', '虽然', '沿着', '或是', 'com', '啊', 'are', '还好', 'yes', 'known', '遵', '加之', '只有', 'seven', '非但', '一方面', \"weren't\", 'if', '不会', '另一方面', '顺', '以致', 'for', '怎么样', 'consider', 'others', \"there'd\", 'anyway', '咚', 'liked', \"wouldn't\", 'cause', '不特', '率', \"it's\", '为了', 'tends', '哪里', '咋', '总的来看', '给', 'usually', '不拘', '倘', 'yourselves', '凭', '你', '就行了', '啪达', '如果', 'both', '她们', '不管', '上个月', '拿', '嘘', '似的', 'gives', 'otherwise', 'therein', 'whenever', '于是乎', '在下', 'instead', '到', '哪儿', '哪样', 'about', 'said', 'with', '谢谢', '每当', '旁人', 'likewise', 'whichever', '朝', '之类', \"ain't\", 'caption', '归', '没能', 'till', '任凭', '也', '那', '尽管', 'neverless', 'no-one', \"you've\", '固然', '自身', 'in', 'say', '小乔', '否则', 'provided', '哗', 'regards', 'becoming', 'c', '照', '当', '使得', '兮', '那么样', 'maybe', '你们', 'behind', '不能', \"a's\", \"there've\", '哪年', 'hello', \"i'd\", 'sure', '自家', 'therefore', '即若', '较之', '监督局', 'towards', '每', 'was', 'became', 'alongside', 'by', 'else', 'furthermore', '时候', '不怎么', '乌乎', 'downwards', 'beforehand', 'nothing', 'moreover', 'amidst', '哪边', '对', '过去', 'a', 'across', '根据', '要不', '越是', 'looking', 'tried', \"where's\", '故', 'says', 'course', '有的', '同时', 'whence', '焉', '接近', '但', 'may', '问', 'b', '计算机技术', 'later', 'onto', 'f', 'an', 'thank', 'then', 'somebody', '哎哟', '感谢', '就是说', '而况', '会员', '若', 'ought', '综上所述', '段时间', \"wasn't\", '此', '但是', 'gets', 'unlikely', \"we've\", '一旦', '于', '试试看', '以免', 'few', '还是', '不惟', 'next', 'got', 'x', 'versus', 'meanwhile', 'mrs', '吧哒', '矣', '、', '己', '因此', 'ignored', 'ours', '乃至', \"he'd\", 'actually', '鉴于', \"that'll\", 'recently', '比方', '而且', 'get', '会', '则', '只要', '现在', 'aside', 'should', '吓了一跳', 'not', '换句话说', 'specify', '以', 'lest', 'formerly', '凭借', 'nine', \"he's\", '依', '而言', '站立', '上查', '：', '再者', 'him', '继续', '其中', '换言之', '不用', '无论', \"i'll\", 'itself', 'hereafter', \"mayn't\", 'three', \"you'd\", '即使', 'me', '一样', 'off', \"what'll\", 'herein', 'available', 'make', '等', '早日康复', 'reasonably', 'comes', 'seems', 'why', 'same', '那么', 'vs', '来', '总的说来', 'adj', 'eg', '试试', 'old', '设使', 'will', 'like', 'directly', '那会儿', '莫若', '而已', '咳', 'used', '着呢', '哪天', 'que', 'getting', '只限', '嗳', 'hundred', 'tell', '乎', '恢复', 'either', '决定', '意思', 'everything', '怎么', '这么样', '首先', '及', '啥', '果然', '甚至', '开始', 'definitely', '隔', '是不是', '老师', \"she'd\", 'dare', '广告', 'anybody', 'before', '嗬', 'any', 'truly', '彼此', '哎呀', '况且', 're', 'still', 'way', '几', 'hardly', 'corresponding', '哎', '那边', '至', 'thereby', 'mean', '倘然', 'indicated', 'whereafter', '前后', 'hers', 'every', 'is', 'without', '除非', 'thereupon', \"i'm\", 'provides', '那个', '喔唷', 'un', 'almost', 'forward', 'six', 'thanx', '看不出来', \"who'll\", 'how', 'into', '即便', 'eighty', '不成', '叫', \"there'll\", '个', '何况', 'past', '周到', 'appear', 'never', 'somewhere', 'according', '功效', '经', '是的', '并且', '咱们', \"daren't\", 'even', 'it', 'out', 'whom', 'which', 'wherein', '它', 'nowhere', 'far', '平时', '省得', '以及', 'please', '呼哧', 'indeed', '连', 'ago', 'least', 'nd', 'on', 'throughout', '今天', '如若', '尚且', \"there's\", \"aren't\", 't', 'whomever', '打算', '呵', 'through', '进行', '总的来说', '哦', '边', '及至', 'e', 'us', 'appreciate', 'less', '呸', 'somewhat', '倘使', '这就是说', 'these', '要', 'too', 'this', '彼', '不可避免', '可见', '文章', '且', '若非', '这么点儿', 'along', '你好', '进', 'particular', 'enough', '自个儿', '离', '极了', 'gotten', 'awfully', '某', '亟待解决', '点点', '哈哈', 'against', 'sorry', 'given', \"you'll\", 'myself', 'relatively', 'useful', 'back', \"that've\", '他们', 'immediate', 'four', '明天', '借', \"it'd\", 'take', 'specifying', '其二', '另附', '或', '反过来说', '比', 'must', '喂', '以便', '俺们', 'whose', 'toward', '字', '能', '；', '本', '往', '如其', 'under', 'fifth', 'thing', 'several', 'below', '了', 'ltd', 'himself', '吱', 'namely', 'where', '谁知', 'theres', '关于', '慢说', 'changes', \"it'll\", '么', '与否', 'someday', '他人', 'thence', 'thus', '遵照', '别的', 'low', '可', '从而', 'soon', '和', '朝着', '一', 'ahead', '他', '好像', 'amid', 'because', 'howbeit', '这儿', '！', '起见', '无宁', 'believe', 'minus', 'self', 'unlike', 'via', 'look', 'ie', '方子', 'become', 'particularly', '“', '打', '几时', 'what', '其次', '?', '然而', '过', 'different', '问问', 'outside', \"what've\", '不比', '呗', \"they're\", '比如', '电筒', '长长', 'm', '例如', '反过来', 'between', 'secondly', '甚而', 'though', 'when', \"who'd\", 'wonder', 'n', '为何', '结果', '进而', '还有', 'co', 'non', '一段时间', 'miss', \"she'll\", '又', 'accordingly', 'presumably', \"shan't\", 'whereupon', '怎么回事', 'know', 'plus', '不过', '相对而言', '呀', '您', 'hence', '上午', '随', '此外', 'thru', '不然', '钱', 'however', 'recent', 'we', '有无', 'kept', 'something', 'yours', 'gone', 'seeming', '乃', '这么', 'and', '啐', '恰恰相反', 'keep', '一般', 'respectively', '那儿', '百分之', '紧接着', '力', 'fairly', '而外', \"he'll\", '不得', '回复', 'no', 'abroad', '抑或', 'seem', 'here', '感谢您', 'need', '之', 'your', '们', 'seemed', '提问', 'thorough', 'had', '趁', '哩', 'after', '自', 'someone', '何处', 'th', '建议', 'whole', '这时', '虽则', 'novel', 'happens', '假若', '我会', 'going', '地', 'l', 'zero', '为什么', 'together', '冒', 'ex', '之一', '随着', '照到', 'themselves', '其余', 'uses', 'exactly', '起', '我', '可能', '怎', 'hither', '有', '不只', 'needs', '这', '对于', 'z', '要不是', '别说', '担心', 'first', 'wish', 'down', '来着', 'knows', 'looks', 'yet', '这会儿', 'each', '嘛', '买到', '不论', 'keeps', '用', 'rather', '哈', 'five', '有事吗', '得', '在', '姐姐', 'associated', '呜', '本着', 'inc.', 'mainly', 'own', 'placed', '那么些', '自各儿', 'sensible', 'follows', 'such', '开外', '各个', 'found', 'opposite', '假如', '不仅', '白天', '像', 'whatever', 'i', 'ask', \"who's\", '知道', 'whilst', \"won't\", '上下', '不怕', 'ending', 'meantime', '谁', '退', '跟', \"hadn't\", 'cant', 'co.', '要么', 'example', '反之', 'taken', 'taking', 'until', 'use', 'forth', 'anyhow', 'thereafter', '可能性', '呜呼', 'inasmuch', '出现', '方式', 'but', \"c's\", 'to', 'two', 'whereas', '而是', '即令', '再说', 'd', 'anyways', '呢', 'neither', '接着', 'seriously', 'sometimes', 'those', '非徒', '去', '另外', '某个', 'eight', 'latter', 'serious', \"they've\", '较', 'really', 'only', '咱', '照片', '纵使', \"oughtn't\", 'came', '需要', 'being', 'hereby', '是否', '万一', 'upon', '昨天晚上', '另', 'lately', '为', '前天', 'right', '这个', '总之', '与此同时', 'anything', '尽', '于是', 'around', '不单', 'seeing', '除', '当着', 'various', '哪些', '沿', '甚么', 'another', 'sup', 'went', '什么样', '。', 'whether', '哪', 'did', '不光', 'g', \"let's\", '怎样', '按', 'allows', '什么', 'who', '哼', '嗡嗡', 'evermore', 'my', 'possible', 'half', 'oh', 'thats', '而', '宁', 'go', '继而', '有些', 'despite', 'near', '为着', 'round', 'the', '设若', '原因', '只能', '多少', '既', '要是', '总而言之', '希望', 'except', 'following', 'many', 'value', '您好', 'help', '吓', 'amongst', 'although', '此间', '除此之外', 'asking', '一来', 'et', '吧', 'further', 'hopefully', '岂但', 'welcome', '宁肯', '尔后', '也罢', '者', 'above', '选择', 'better', 'normally', '做', '虽说', '罢了', '昨晚', 'causes', 'anywhere', '这里', 'besides', 'forever', 'regardless', 'neverf', 'would', '不但', '如何', '添加', '之所以', 'selves', 'during', '既是', 'afterwards', 'alone', 'goes', '即', 'inward', '并', 'nevertheless', '纵', '嘎', \"isn't\", '然后', '任', '连同', '论', \"they'll\", '依照', '使', 'currently', 'doing', 'makes', \"we'd\", 'v', \"we're\", 'beyond', 'willing', 'always', 'there', \"needn't\", 'herself', '等等', '如此', '有没有', 'apart', '如下', '自从', 'edu', '就', 'farther', 'followed', 'they', '嘎登', 'ever', '各位', 'twice', 'much', 'somehow', \"they'd\", '前者', 'also', \"c'mon\", 'them', 'trying', '好不好', '云云', \"hasn't\", 'ninety', 'has', 'everyone', '漫说', '看不到', 'none', 'mostly', '阿', '具体说来', 'all', '喏', \"doesn't\", 'h', '趁着', '这么些', 'more', 'one', '任何', 'let', '故此', 'whither', 'hi', 'y', '具体地说', '自己', '这些', '然则', '因', 'come', '管', \"that's\", '情况', 'try', 'do', 'fewer', 'whoever', 'unto', 'might', '某些', '影响', 'am', '给开', 'certainly', 'everybody', 'brief', '诸位', 'nearly', '两者', 'containing', 'contain', '待', '宁可', '该', '只是', 'certain', 'upwards', \"what's\", 'noone', '查看', 'away', 'wherever', 'ourselves', 'within', '她', 'some', \"she's\", 'indicate', '带上', '纵然', 'becomes', 'can', \"can't\", \"t's\", '被', 'notwithstanding', 'see', \"didn't\", 'perhaps', '同', '可以', '它们', '望', 'our', 'thoroughly', '我们', 'w', '经过', 'done', 'or', 'now', 'q', '有关', 'could', 'anyone', 'of', '腾', '通过', '《', 'overall', 'thanks', 'using', 'very', '哉', '并不多', '没有', 'made', 'took', '果真', '周', '其', 'able'})\n"
     ]
    }
   ],
   "source": [
    "from analyse.analyzer import ChineseAnalyzer"
   ]
  },
  {
   "cell_type": "code",
   "execution_count": 53,
   "metadata": {
    "collapsed": true
   },
   "outputs": [],
   "source": [
    "ana = ChineseAnalyzer()"
   ]
  },
  {
   "cell_type": "code",
   "execution_count": 55,
   "metadata": {
    "collapsed": false
   },
   "outputs": [
    {
     "name": "stdout",
     "output_type": "stream",
     "text": [
      "一下\n",
      "电影片\n"
     ]
    }
   ],
   "source": [
    "for t in  ana('我们诸位查看一下, : sfs 电影片'):\n",
    "    print(t.text)"
   ]
  },
  {
   "cell_type": "code",
   "execution_count": null,
   "metadata": {
    "collapsed": true
   },
   "outputs": [],
   "source": []
  }
 ],
 "metadata": {
  "kernelspec": {
   "display_name": "Python 3",
   "language": "python",
   "name": "python3"
  },
  "language_info": {
   "codemirror_mode": {
    "name": "ipython",
    "version": 3
   },
   "file_extension": ".py",
   "mimetype": "text/x-python",
   "name": "python",
   "nbconvert_exporter": "python",
   "pygments_lexer": "ipython3",
   "version": "3.6.0"
  }
 },
 "nbformat": 4,
 "nbformat_minor": 2
}
