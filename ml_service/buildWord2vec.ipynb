{
 "cells": [
  {
   "cell_type": "markdown",
   "metadata": {},
   "source": [
    "# 获取数据"
   ]
  },
  {
   "cell_type": "code",
   "execution_count": 1,
   "metadata": {
    "collapsed": false
   },
   "outputs": [],
   "source": [
    "import os\n",
    "import pandas\n",
    "dataPath = os.path.curdir + './data_process/public/data.csv'\n",
    "data = pandas.read_csv(dataPath)"
   ]
  },
  {
   "cell_type": "code",
   "execution_count": 2,
   "metadata": {
    "collapsed": false
   },
   "outputs": [
    {
     "data": {
      "text/html": [
       "<div>\n",
       "<style>\n",
       "    .dataframe thead tr:only-child th {\n",
       "        text-align: right;\n",
       "    }\n",
       "\n",
       "    .dataframe thead th {\n",
       "        text-align: left;\n",
       "    }\n",
       "\n",
       "    .dataframe tbody tr th {\n",
       "        vertical-align: top;\n",
       "    }\n",
       "</style>\n",
       "<table border=\"1\" class=\"dataframe\">\n",
       "  <thead>\n",
       "    <tr style=\"text-align: right;\">\n",
       "      <th></th>\n",
       "      <th>root</th>\n",
       "      <th>content</th>\n",
       "    </tr>\n",
       "  </thead>\n",
       "  <tbody>\n",
       "    <tr>\n",
       "      <th>0</th>\n",
       "      <td>58d0889bfc277d58f5ec2e4e</td>\n",
       "      <td>女孩   两个月零3天         出生的时候   羊水三度污染            ...</td>\n",
       "    </tr>\n",
       "    <tr>\n",
       "      <th>1</th>\n",
       "      <td>58d0d2e0fc277d58f5ec3d52</td>\n",
       "      <td>您好，我家宝宝75天，近20天来不好好吃奶，每次吃不到10分钟就想睡觉或者东看西看不专心吃了...</td>\n",
       "    </tr>\n",
       "    <tr>\n",
       "      <th>2</th>\n",
       "      <td>58d07647fc277d58f5ec2a73</td>\n",
       "      <td>宝宝换2段奶粉后就开始拉肚子，上儿童医院也开了药也不是很管用，而且现在还吐…今天尿的和米汤一...</td>\n",
       "    </tr>\n",
       "    <tr>\n",
       "      <th>3</th>\n",
       "      <td>58d1d3d2fc277d58f5ec54da</td>\n",
       "      <td>你好，宝宝四个月，纯奶粉，可以吃妞贝乐乳铁蛋白吗，想给宝宝增强抵抗了宝妈您好。这个不建议给宝...</td>\n",
       "    </tr>\n",
       "    <tr>\n",
       "      <th>4</th>\n",
       "      <td>58d0b052fc277d58f5ec36f7</td>\n",
       "      <td>我是一名乙肝病毒携带者孕妇，由于我的肝功能异常，我从怀孕十二周就开始吃促肝细胞生长素肠溶胶囊...</td>\n",
       "    </tr>\n",
       "  </tbody>\n",
       "</table>\n",
       "</div>"
      ],
      "text/plain": [
       "                       root                                            content\n",
       "0  58d0889bfc277d58f5ec2e4e  女孩   两个月零3天         出生的时候   羊水三度污染            ...\n",
       "1  58d0d2e0fc277d58f5ec3d52  您好，我家宝宝75天，近20天来不好好吃奶，每次吃不到10分钟就想睡觉或者东看西看不专心吃了...\n",
       "2  58d07647fc277d58f5ec2a73  宝宝换2段奶粉后就开始拉肚子，上儿童医院也开了药也不是很管用，而且现在还吐…今天尿的和米汤一...\n",
       "3  58d1d3d2fc277d58f5ec54da  你好，宝宝四个月，纯奶粉，可以吃妞贝乐乳铁蛋白吗，想给宝宝增强抵抗了宝妈您好。这个不建议给宝...\n",
       "4  58d0b052fc277d58f5ec36f7  我是一名乙肝病毒携带者孕妇，由于我的肝功能异常，我从怀孕十二周就开始吃促肝细胞生长素肠溶胶囊..."
      ]
     },
     "execution_count": 2,
     "metadata": {},
     "output_type": "execute_result"
    }
   ],
   "source": [
    "data.head()"
   ]
  },
  {
   "cell_type": "markdown",
   "metadata": {},
   "source": [
    "# 处理content数据\n",
    "- 利用jieba分词，生成分词文件data.seg"
   ]
  },
  {
   "cell_type": "code",
   "execution_count": 7,
   "metadata": {
    "collapsed": false
   },
   "outputs": [],
   "source": [
    "# import jieba\n",
    "# jieba.set_dictionary('userDict.txt')\n",
    "# def filter(input_text):\n",
    "#     for token in jieba.cut(input_text):\n",
    "#         if token not in \",.?;'[]()`~!@#$%^&*/+_-=<>{}:，。？！·；：‘“、\\\"\\ \":\n",
    "#             yield token\n",
    "from analyse.analyzer import ChineseAnalyzer\n",
    "analyzer = ChineseAnalyzer()\n",
    "\n",
    "\n",
    "mycut = lambda s: [t.text for t in analyzer(s)]\n",
    "sentences = data['content'].apply(mycut)"
   ]
  },
  {
   "cell_type": "code",
   "execution_count": 8,
   "metadata": {
    "collapsed": false
   },
   "outputs": [
    {
     "data": {
      "text/plain": [
       "0    [女孩, 两个, 月, 零, 天, 出生, 羊水三度, 污染, 剖腹产, 头, 枕, 高, ...\n",
       "1    [我家, 宝宝, 75, 天, 近, 20, 天来, 不, 好, 好, 吃, 奶, 每次, ...\n",
       "2    [宝宝换, 段, 奶粉, 后, 拉肚子, 上儿童, 医院, 开, 药, 不, 很, 管用, ...\n",
       "3    [宝宝, 四个, 月, 纯奶粉, 吃, 妞贝乐, 乳铁蛋白, 宝宝, 增强, 抵抗, 宝妈,...\n",
       "4    [一名, 乙肝病毒携带者, 孕妇, 肝功能, 异常, 怀孕, 十二周, 吃, 促肝, 细胞,...\n",
       "Name: content, dtype: object"
      ]
     },
     "execution_count": 8,
     "metadata": {},
     "output_type": "execute_result"
    }
   ],
   "source": [
    "sentences.head()"
   ]
  },
  {
   "cell_type": "markdown",
   "metadata": {
    "collapsed": false
   },
   "source": [
    "# Word2Vec"
   ]
  },
  {
   "cell_type": "code",
   "execution_count": null,
   "metadata": {
    "collapsed": false
   },
   "outputs": [],
   "source": [
    "from gensim.models import Word2Vec"
   ]
  },
  {
   "cell_type": "code",
   "execution_count": 4,
   "metadata": {
    "collapsed": false
   },
   "outputs": [],
   "source": []
  },
  {
   "cell_type": "code",
   "execution_count": 5,
   "metadata": {
    "collapsed": true
   },
   "outputs": [],
   "source": []
  },
  {
   "cell_type": "code",
   "execution_count": 6,
   "metadata": {
    "collapsed": false
   },
   "outputs": [
    {
     "name": "stdout",
     "output_type": "stream",
     "text": [
      "一下\n",
      "sf\n",
      "girl\n",
      "牛栏\n",
      "山电\n",
      "影片\n"
     ]
    }
   ],
   "source": []
  },
  {
   "cell_type": "code",
   "execution_count": null,
   "metadata": {
    "collapsed": true
   },
   "outputs": [],
   "source": []
  }
 ],
 "metadata": {
  "kernelspec": {
   "display_name": "Python 3",
   "language": "python",
   "name": "python3"
  },
  "language_info": {
   "codemirror_mode": {
    "name": "ipython",
    "version": 3
   },
   "file_extension": ".py",
   "mimetype": "text/x-python",
   "name": "python",
   "nbconvert_exporter": "python",
   "pygments_lexer": "ipython3",
   "version": "3.6.0"
  }
 },
 "nbformat": 4,
 "nbformat_minor": 2
}
