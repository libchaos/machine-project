{
 "cells": [
  {
   "cell_type": "markdown",
   "metadata": {},
   "source": [
    "# 获取数据"
   ]
  },
  {
   "cell_type": "code",
   "execution_count": 4,
   "metadata": {
    "collapsed": false
   },
   "outputs": [
    {
     "name": "stdout",
     "output_type": "stream",
     "text": [
      "../data_process/public/data.csv\n"
     ]
    },
    {
     "name": "stderr",
     "output_type": "stream",
     "text": [
      "b'Skipping line 1009: expected 9 fields, saw 13\\nSkipping line 1371: expected 9 fields, saw 13\\nSkipping line 4203: expected 9 fields, saw 13\\nSkipping line 5790: expected 9 fields, saw 13\\nSkipping line 10519: expected 9 fields, saw 13\\n'\n"
     ]
    }
   ],
   "source": [
    "import os\n",
    "import pandas\n",
    "dataPath = os.path.curdir + './data_process/public/data.csv'\n",
    "print(dataPath)\n",
    "data = pandas.read_csv(dataPath, error_bad_lines=False)"
   ]
  },
  {
   "cell_type": "code",
   "execution_count": 5,
   "metadata": {
    "collapsed": false
   },
   "outputs": [
    {
     "data": {
      "text/html": [
       "<div>\n",
       "<style>\n",
       "    .dataframe thead tr:only-child th {\n",
       "        text-align: right;\n",
       "    }\n",
       "\n",
       "    .dataframe thead th {\n",
       "        text-align: left;\n",
       "    }\n",
       "\n",
       "    .dataframe tbody tr th {\n",
       "        vertical-align: top;\n",
       "    }\n",
       "</style>\n",
       "<table border=\"1\" class=\"dataframe\">\n",
       "  <thead>\n",
       "    <tr style=\"text-align: right;\">\n",
       "      <th></th>\n",
       "      <th>root</th>\n",
       "      <th>content</th>\n",
       "      <th>title</th>\n",
       "      <th>tags</th>\n",
       "      <th>description</th>\n",
       "      <th>user</th>\n",
       "      <th>doctor</th>\n",
       "      <th>comment</th>\n",
       "      <th>rating</th>\n",
       "    </tr>\n",
       "  </thead>\n",
       "  <tbody>\n",
       "    <tr>\n",
       "      <th>0</th>\n",
       "      <td>58cfd30dfc277d58f5ec1dec</td>\n",
       "      <td>测试测试回复测试回复测试回复测试回复测试回复测试回复</td>\n",
       "      <td>妇产科医生</td>\n",
       "      <td>孕期胎儿问题、分娩方式选择、围产及产后恢复、乳腺炎、</td>\n",
       "      <td>擅长备孕、孕期保健、产后保健、孕期化验、生产方式选择、孕期及哺乳期安全用药</td>\n",
       "      <td>王文磊@十月呵护</td>\n",
       "      <td>何小红</td>\n",
       "      <td>太好了，回复速度很快！</td>\n",
       "      <td>5</td>\n",
       "    </tr>\n",
       "    <tr>\n",
       "      <th>1</th>\n",
       "      <td>58cfd7b5fc277d58f5ec1eec</td>\n",
       "      <td>医生您好，我肚子总是紧，孩子胎动不规律肚子疼就去拉，拉完就不疼了，不疼了胎动就规律了，规律了...</td>\n",
       "      <td>妇产科医生</td>\n",
       "      <td>孕期胎儿问题、分娩方式选择、围产及产后恢复、乳腺炎、</td>\n",
       "      <td>擅长备孕、孕期保健、产后保健、孕期化验、生产方式选择、孕期及哺乳期安全用药</td>\n",
       "      <td>刘博@十月呵护</td>\n",
       "      <td>何小红</td>\n",
       "      <td>NaN</td>\n",
       "      <td>0</td>\n",
       "    </tr>\n",
       "    <tr>\n",
       "      <th>2</th>\n",
       "      <td>58d06e02fc277d58f5ec28e7</td>\n",
       "      <td>你好，4个月男宝一天的总奶量是多少毫升，现在13斤宝妈您好  宝宝现在的总奶量在650-71...</td>\n",
       "      <td>儿科医生</td>\n",
       "      <td>湿疹 尿布疹 大便异常  咳嗽 发热  小儿喂养  疝气 腿纹不对称 足内翻</td>\n",
       "      <td>擅长儿童皮肤病，儿童外科相关疾病治疗及家庭护理</td>\n",
       "      <td>一米阳光</td>\n",
       "      <td>符娟</td>\n",
       "      <td>NaN</td>\n",
       "      <td>0</td>\n",
       "    </tr>\n",
       "    <tr>\n",
       "      <th>3</th>\n",
       "      <td>58d075e9fc277d58f5ec2a5c</td>\n",
       "      <td>女宝宝三个月，纯母乳喂养，这两天喉咙像有异物，容易咳嗽，晚上睡觉也咳嗽，一吃奶就呛奶，但去医...</td>\n",
       "      <td>儿科医生</td>\n",
       "      <td>儿科常见疾病  营养及成长发育指导 早产儿相关问题</td>\n",
       "      <td>擅长儿科常见疾病。婴幼儿营养和喂养指导，辅食添加、早教干预等儿保专业指导。</td>\n",
       "      <td>小盗</td>\n",
       "      <td>何红芳</td>\n",
       "      <td>NaN</td>\n",
       "      <td>0</td>\n",
       "    </tr>\n",
       "    <tr>\n",
       "      <th>4</th>\n",
       "      <td>58d07647fc277d58f5ec2a73</td>\n",
       "      <td>宝宝换2段奶粉后就开始拉肚子，上儿童医院也开了药也不是很管用，而且现在还吐…今天尿的和米汤一...</td>\n",
       "      <td>儿科医生</td>\n",
       "      <td>湿疹 尿布疹 大便异常  咳嗽 发热  小儿喂养  疝气 腿纹不对称 足内翻</td>\n",
       "      <td>擅长儿童皮肤病，儿童外科相关疾病治疗及家庭护理</td>\n",
       "      <td>AAA众益门业15321710218</td>\n",
       "      <td>符娟</td>\n",
       "      <td>NaN</td>\n",
       "      <td>0</td>\n",
       "    </tr>\n",
       "  </tbody>\n",
       "</table>\n",
       "</div>"
      ],
      "text/plain": [
       "                       root  \\\n",
       "0  58cfd30dfc277d58f5ec1dec   \n",
       "1  58cfd7b5fc277d58f5ec1eec   \n",
       "2  58d06e02fc277d58f5ec28e7   \n",
       "3  58d075e9fc277d58f5ec2a5c   \n",
       "4  58d07647fc277d58f5ec2a73   \n",
       "\n",
       "                                             content  title  \\\n",
       "0                         测试测试回复测试回复测试回复测试回复测试回复测试回复  妇产科医生   \n",
       "1  医生您好，我肚子总是紧，孩子胎动不规律肚子疼就去拉，拉完就不疼了，不疼了胎动就规律了，规律了...  妇产科医生   \n",
       "2  你好，4个月男宝一天的总奶量是多少毫升，现在13斤宝妈您好  宝宝现在的总奶量在650-71...   儿科医生   \n",
       "3  女宝宝三个月，纯母乳喂养，这两天喉咙像有异物，容易咳嗽，晚上睡觉也咳嗽，一吃奶就呛奶，但去医...   儿科医生   \n",
       "4  宝宝换2段奶粉后就开始拉肚子，上儿童医院也开了药也不是很管用，而且现在还吐…今天尿的和米汤一...   儿科医生   \n",
       "\n",
       "                                     tags  \\\n",
       "0              孕期胎儿问题、分娩方式选择、围产及产后恢复、乳腺炎、   \n",
       "1              孕期胎儿问题、分娩方式选择、围产及产后恢复、乳腺炎、   \n",
       "2  湿疹 尿布疹 大便异常  咳嗽 发热  小儿喂养  疝气 腿纹不对称 足内翻   \n",
       "3               儿科常见疾病  营养及成长发育指导 早产儿相关问题   \n",
       "4  湿疹 尿布疹 大便异常  咳嗽 发热  小儿喂养  疝气 腿纹不对称 足内翻   \n",
       "\n",
       "                             description                user doctor  \\\n",
       "0  擅长备孕、孕期保健、产后保健、孕期化验、生产方式选择、孕期及哺乳期安全用药            王文磊@十月呵护    何小红   \n",
       "1  擅长备孕、孕期保健、产后保健、孕期化验、生产方式选择、孕期及哺乳期安全用药             刘博@十月呵护    何小红   \n",
       "2                擅长儿童皮肤病，儿童外科相关疾病治疗及家庭护理                一米阳光     符娟   \n",
       "3  擅长儿科常见疾病。婴幼儿营养和喂养指导，辅食添加、早教干预等儿保专业指导。                  小盗    何红芳   \n",
       "4                擅长儿童皮肤病，儿童外科相关疾病治疗及家庭护理  AAA众益门业15321710218     符娟   \n",
       "\n",
       "       comment  rating  \n",
       "0  太好了，回复速度很快！       5  \n",
       "1          NaN       0  \n",
       "2          NaN       0  \n",
       "3          NaN       0  \n",
       "4          NaN       0  "
      ]
     },
     "execution_count": 5,
     "metadata": {},
     "output_type": "execute_result"
    }
   ],
   "source": [
    "data.head()"
   ]
  },
  {
   "cell_type": "markdown",
   "metadata": {},
   "source": [
    "# 处理content数据\n",
    "- 利用jieba分词，生成分词文件data.seg"
   ]
  },
  {
   "cell_type": "code",
   "execution_count": 7,
   "metadata": {
    "collapsed": false
   },
   "outputs": [],
   "source": [
    "# import jieba\n",
    "# jieba.set_dictionary('userDict.txt')\n",
    "# def filter(input_text):\n",
    "#     for token in jieba.cut(input_text):\n",
    "#         if token not in \",.?;'[]()`~!@#$%^&*/+_-=<>{}:，。？！·；：‘“、\\\"\\ \":\n",
    "#             yield token\n",
    "from analyse.analyzer import ChineseAnalyzer\n",
    "analyzer = ChineseAnalyzer()\n",
    "\n",
    "\n",
    "mycut = lambda s: [t.text for t in analyzer(s)]\n",
    "sentences = data['content'].apply(mycut)"
   ]
  },
  {
   "cell_type": "code",
   "execution_count": 8,
   "metadata": {
    "collapsed": false
   },
   "outputs": [
    {
     "data": {
      "text/plain": [
       "0    [女孩, 两个, 月, 零, 天, 出生, 羊水三度, 污染, 剖腹产, 头, 枕, 高, ...\n",
       "1    [我家, 宝宝, 75, 天, 近, 20, 天来, 不, 好, 好, 吃, 奶, 每次, ...\n",
       "2    [宝宝换, 段, 奶粉, 后, 拉肚子, 上儿童, 医院, 开, 药, 不, 很, 管用, ...\n",
       "3    [宝宝, 四个, 月, 纯奶粉, 吃, 妞贝乐, 乳铁蛋白, 宝宝, 增强, 抵抗, 宝妈,...\n",
       "4    [一名, 乙肝病毒携带者, 孕妇, 肝功能, 异常, 怀孕, 十二周, 吃, 促肝, 细胞,...\n",
       "Name: content, dtype: object"
      ]
     },
     "execution_count": 8,
     "metadata": {},
     "output_type": "execute_result"
    }
   ],
   "source": [
    "sentences.head()"
   ]
  },
  {
   "cell_type": "markdown",
   "metadata": {
    "collapsed": false
   },
   "source": [
    "# Word2Vec"
   ]
  },
  {
   "cell_type": "code",
   "execution_count": null,
   "metadata": {
    "collapsed": false
   },
   "outputs": [],
   "source": [
    "from gensim.models import Word2Vec"
   ]
  },
  {
   "cell_type": "code",
   "execution_count": 4,
   "metadata": {
    "collapsed": false
   },
   "outputs": [],
   "source": []
  },
  {
   "cell_type": "code",
   "execution_count": 5,
   "metadata": {
    "collapsed": true
   },
   "outputs": [],
   "source": []
  },
  {
   "cell_type": "code",
   "execution_count": 6,
   "metadata": {
    "collapsed": false
   },
   "outputs": [
    {
     "name": "stdout",
     "output_type": "stream",
     "text": [
      "一下\n",
      "sf\n",
      "girl\n",
      "牛栏\n",
      "山电\n",
      "影片\n"
     ]
    }
   ],
   "source": []
  },
  {
   "cell_type": "code",
   "execution_count": null,
   "metadata": {
    "collapsed": true
   },
   "outputs": [],
   "source": []
  }
 ],
 "metadata": {
  "kernelspec": {
   "display_name": "Python 3",
   "language": "python",
   "name": "python3"
  },
  "language_info": {
   "codemirror_mode": {
    "name": "ipython",
    "version": 3
   },
   "file_extension": ".py",
   "mimetype": "text/x-python",
   "name": "python",
   "nbconvert_exporter": "python",
   "pygments_lexer": "ipython3",
   "version": "3.6.0"
  }
 },
 "nbformat": 4,
 "nbformat_minor": 2
}
