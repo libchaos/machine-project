{
 "cells": [
  {
   "cell_type": "code",
   "execution_count": 23,
   "metadata": {
    "collapsed": true
   },
   "outputs": [],
   "source": [
    "import pandas as pd"
   ]
  },
  {
   "cell_type": "code",
   "execution_count": 24,
   "metadata": {
    "collapsed": true
   },
   "outputs": [],
   "source": [
    "data = pd.read_excel(open('./child.xlsx', 'rb'), sheetname=\"sheet1\")"
   ]
  },
  {
   "cell_type": "code",
   "execution_count": 25,
   "metadata": {
    "collapsed": false
   },
   "outputs": [
    {
     "data": {
      "text/html": [
       "<div>\n",
       "<style>\n",
       "    .dataframe thead tr:only-child th {\n",
       "        text-align: right;\n",
       "    }\n",
       "\n",
       "    .dataframe thead th {\n",
       "        text-align: left;\n",
       "    }\n",
       "\n",
       "    .dataframe tbody tr th {\n",
       "        vertical-align: top;\n",
       "    }\n",
       "</style>\n",
       "<table border=\"1\" class=\"dataframe\">\n",
       "  <thead>\n",
       "    <tr style=\"text-align: right;\">\n",
       "      <th></th>\n",
       "      <th>department</th>\n",
       "      <th>category</th>\n",
       "      <th>symptom</th>\n",
       "      <th>tags</th>\n",
       "      <th>kd_title</th>\n",
       "      <th>content</th>\n",
       "      <th>Unnamed: 6</th>\n",
       "      <th>Unnamed: 7</th>\n",
       "    </tr>\n",
       "  </thead>\n",
       "  <tbody>\n",
       "    <tr>\n",
       "      <th>0</th>\n",
       "      <td>儿科</td>\n",
       "      <td>婴儿</td>\n",
       "      <td>新生儿鹅口疮</td>\n",
       "      <td>儿科/宝宝/口腔</td>\n",
       "      <td>鹅口疮</td>\n",
       "      <td>鹅口疮是一种念珠菌感染，多数是因为哺乳奶头不洁或喂养者手指的污染传播，孕妈在平时给宝宝喂奶的...</td>\n",
       "      <td>NaN</td>\n",
       "      <td>NaN</td>\n",
       "    </tr>\n",
       "    <tr>\n",
       "      <th>1</th>\n",
       "      <td>儿科</td>\n",
       "      <td>婴儿</td>\n",
       "      <td>新生儿鹅口疮</td>\n",
       "      <td>儿科/宝宝/口腔</td>\n",
       "      <td>鹅口疮治疗</td>\n",
       "      <td>可以用新配制的制霉菌素溶液10-20万U/ml涂口腔，每日3次，或制霉菌素每天25-50万U...</td>\n",
       "      <td>NaN</td>\n",
       "      <td>NaN</td>\n",
       "    </tr>\n",
       "    <tr>\n",
       "      <th>2</th>\n",
       "      <td>儿科</td>\n",
       "      <td>婴儿</td>\n",
       "      <td>新生儿鹅口疮</td>\n",
       "      <td>儿科/宝宝/口腔</td>\n",
       "      <td>鹅口疮的症状</td>\n",
       "      <td>每次喂奶有哭闹或拒奶现象，应仔细检查宝宝口腔，如果发现口腔黏膜上有白色乳凝块状物，不易剥离，...</td>\n",
       "      <td>NaN</td>\n",
       "      <td>NaN</td>\n",
       "    </tr>\n",
       "    <tr>\n",
       "      <th>3</th>\n",
       "      <td>儿科</td>\n",
       "      <td>婴儿</td>\n",
       "      <td>新生儿鹅口疮</td>\n",
       "      <td>儿科/宝宝/口腔</td>\n",
       "      <td>鹅口疮的预防</td>\n",
       "      <td>防止感染的有效途径就是做好喂奶和接触新生儿时的清洁工作，母乳喂养前应该洗手并用温水擦干净乳头...</td>\n",
       "      <td>NaN</td>\n",
       "      <td>NaN</td>\n",
       "    </tr>\n",
       "    <tr>\n",
       "      <th>4</th>\n",
       "      <td>儿科</td>\n",
       "      <td>婴儿</td>\n",
       "      <td>口腔问题</td>\n",
       "      <td>儿科/宝宝/口腔</td>\n",
       "      <td>舌苔厚</td>\n",
       "      <td>1. 喝温开水漱口清洁，只要宝宝每次喝完奶以后，就给他喝一些温开水漱漱口，就比较不会长舌苔。...</td>\n",
       "      <td>NaN</td>\n",
       "      <td>NaN</td>\n",
       "    </tr>\n",
       "  </tbody>\n",
       "</table>\n",
       "</div>"
      ],
      "text/plain": [
       "  department category symptom      tags kd_title  \\\n",
       "0         儿科       婴儿  新生儿鹅口疮  儿科/宝宝/口腔      鹅口疮   \n",
       "1         儿科       婴儿  新生儿鹅口疮  儿科/宝宝/口腔    鹅口疮治疗   \n",
       "2         儿科       婴儿  新生儿鹅口疮  儿科/宝宝/口腔   鹅口疮的症状   \n",
       "3         儿科       婴儿  新生儿鹅口疮  儿科/宝宝/口腔   鹅口疮的预防   \n",
       "4         儿科       婴儿    口腔问题  儿科/宝宝/口腔      舌苔厚   \n",
       "\n",
       "                                             content  Unnamed: 6 Unnamed: 7  \n",
       "0  鹅口疮是一种念珠菌感染，多数是因为哺乳奶头不洁或喂养者手指的污染传播，孕妈在平时给宝宝喂奶的...         NaN        NaN  \n",
       "1  可以用新配制的制霉菌素溶液10-20万U/ml涂口腔，每日3次，或制霉菌素每天25-50万U...         NaN        NaN  \n",
       "2  每次喂奶有哭闹或拒奶现象，应仔细检查宝宝口腔，如果发现口腔黏膜上有白色乳凝块状物，不易剥离，...         NaN        NaN  \n",
       "3  防止感染的有效途径就是做好喂奶和接触新生儿时的清洁工作，母乳喂养前应该洗手并用温水擦干净乳头...         NaN        NaN  \n",
       "4  1. 喝温开水漱口清洁，只要宝宝每次喝完奶以后，就给他喝一些温开水漱漱口，就比较不会长舌苔。...         NaN        NaN  "
      ]
     },
     "execution_count": 25,
     "metadata": {},
     "output_type": "execute_result"
    }
   ],
   "source": [
    "data.head()"
   ]
  },
  {
   "cell_type": "code",
   "execution_count": 26,
   "metadata": {
    "collapsed": true
   },
   "outputs": [],
   "source": [
    "from db import MineDB"
   ]
  },
  {
   "cell_type": "code",
   "execution_count": 27,
   "metadata": {
    "collapsed": true
   },
   "outputs": [],
   "source": [
    "db = MineDB('localhost', 'care', 'childKD')"
   ]
  },
  {
   "cell_type": "code",
   "execution_count": 28,
   "metadata": {
    "collapsed": false
   },
   "outputs": [
    {
     "data": {
      "text/plain": [
       "('儿科', '婴儿', '婴儿', ['儿科', '宝宝', '口腔'], '鹅口疮', '鹅口疮')"
      ]
     },
     "execution_count": 28,
     "metadata": {},
     "output_type": "execute_result"
    }
   ],
   "source": [
    "(data.iloc[0]['department'],  data.iloc[0]['category'], \\\n",
    " data.iloc[0]['category'], data.iloc[0]['tags'].split('/'),\\\n",
    " data.iloc[0]['kd_title'],data.iloc[0]['kd_title'])"
   ]
  },
  {
   "cell_type": "code",
   "execution_count": 29,
   "metadata": {
    "collapsed": false
   },
   "outputs": [],
   "source": [
    "db.insert({'department': data.iloc[0]['department'], 'category': data.iloc[0]['category'], \\\n",
    "           'symptom': data.iloc[0]['symptom'], 'tags': data.iloc[0]['tags'].split('/'), \\\n",
    "            'kd_body': [{'kd_title': data.iloc[0]['kd_title'], 'content': data.iloc[0]['content']}]\n",
    "          })"
   ]
  },
  {
   "cell_type": "code",
   "execution_count": 31,
   "metadata": {
    "collapsed": false
   },
   "outputs": [
    {
     "name": "stdout",
     "output_type": "stream",
     "text": [
      "{'_id': ObjectId('59e060a9c6c40c0b9ccfd21d'), 'department': '儿科', 'category': '婴儿', 'symptom': '新生儿鹅口疮', 'tags': ['儿科', '宝宝', '口腔'], 'kd_body': [{'kd_title': '鹅口疮', 'content': '鹅口疮是一种念珠菌感染，多数是因为哺乳奶头不洁或喂养者手指的污染传播，孕妈在平时给宝宝喂奶的时候注意清洁，温水清洗乳晕;而且应经常洗澡，换内衣，剪指甲，每次抱孩子时要先洗手，并定期消毒，可以给宝宝在喂奶后喂点水来清洁口腔预防感染，如果情况严重的话应在医生的指导下进行用药。喂奶的奶瓶奶嘴用完后要及时用开水刷洗，使用前也要用开水烫过。'}]}\n"
     ]
    }
   ],
   "source": [
    "for doc in db.query():\n",
    "    print(doc)"
   ]
  },
  {
   "cell_type": "code",
   "execution_count": 46,
   "metadata": {
    "collapsed": false
   },
   "outputs": [
    {
     "data": {
      "text/plain": [
       "56"
      ]
     },
     "execution_count": 46,
     "metadata": {},
     "output_type": "execute_result"
    }
   ],
   "source": [
    "len(set(data['symptom']))"
   ]
  },
  {
   "cell_type": "code",
   "execution_count": 35,
   "metadata": {
    "collapsed": false
   },
   "outputs": [],
   "source": [
    "symptom = data.groupby('symptom')"
   ]
  },
  {
   "cell_type": "code",
   "execution_count": 41,
   "metadata": {
    "collapsed": false
   },
   "outputs": [
    {
     "name": "stdout",
     "output_type": "stream",
     "text": [
      "不相关问题\n",
      "<class 'pandas.core.frame.DataFrame'>\n",
      "佝偻病相关\n",
      "<class 'pandas.core.frame.DataFrame'>\n",
      "其他\n",
      "<class 'pandas.core.frame.DataFrame'>\n",
      "卡介苗相关\n",
      "<class 'pandas.core.frame.DataFrame'>\n",
      "发热相关\n",
      "<class 'pandas.core.frame.DataFrame'>\n",
      "口腔问题\n",
      "<class 'pandas.core.frame.DataFrame'>\n",
      "各项筛查相关\n",
      "<class 'pandas.core.frame.DataFrame'>\n",
      "吐奶、溢奶、打嗝\n",
      "<class 'pandas.core.frame.DataFrame'>\n",
      "囟门相关\n",
      "<class 'pandas.core.frame.DataFrame'>\n",
      "大便相关\n",
      "<class 'pandas.core.frame.DataFrame'>\n",
      "奶瓶、奶嘴相关\n",
      "<class 'pandas.core.frame.DataFrame'>\n",
      "婴儿如何正确添加辅食\n",
      "<class 'pandas.core.frame.DataFrame'>\n",
      "婴儿痉挛症、肠绞痛相关\n",
      "<class 'pandas.core.frame.DataFrame'>\n",
      "宝宝大便相关\n",
      "<class 'pandas.core.frame.DataFrame'>\n",
      "宝宝检查时间表\n",
      "<class 'pandas.core.frame.DataFrame'>\n",
      "小便相关\n",
      "<class 'pandas.core.frame.DataFrame'>\n",
      "小儿常见出疹性疾病\n",
      "<class 'pandas.core.frame.DataFrame'>\n",
      "尿床、遗尿症相关\n",
      "<class 'pandas.core.frame.DataFrame'>\n",
      "常见问诊问题\n",
      "<class 'pandas.core.frame.DataFrame'>\n",
      "幼儿常见问题\n",
      "<class 'pandas.core.frame.DataFrame'>\n",
      "心脏相关\n",
      "<class 'pandas.core.frame.DataFrame'>\n",
      "打喷嚏相关\n",
      "<class 'pandas.core.frame.DataFrame'>\n",
      "放屁相关\n",
      "<class 'pandas.core.frame.DataFrame'>\n",
      "新生儿吃多少\n",
      "<class 'pandas.core.frame.DataFrame'>\n",
      "新生儿常见的问题\n",
      "<class 'pandas.core.frame.DataFrame'>\n",
      "新生儿水肿相关\n",
      "<class 'pandas.core.frame.DataFrame'>\n",
      "新生儿肺炎、感冒相关\n",
      "<class 'pandas.core.frame.DataFrame'>\n",
      "新生儿败血症\n",
      "<class 'pandas.core.frame.DataFrame'>\n",
      "新生儿鹅口疮\n",
      "<class 'pandas.core.frame.DataFrame'>\n",
      "早产儿相关\n",
      "<class 'pandas.core.frame.DataFrame'>\n",
      "检验单相关\n",
      "<class 'pandas.core.frame.DataFrame'>\n",
      "母乳、人工喂养相关\n",
      "<class 'pandas.core.frame.DataFrame'>\n",
      "汗疹（痱子）\n",
      "<class 'pandas.core.frame.DataFrame'>\n",
      "洗澡、游泳相关\n",
      "<class 'pandas.core.frame.DataFrame'>\n",
      "消化不良、腹胀相关\n",
      "<class 'pandas.core.frame.DataFrame'>\n",
      "湿疹相关\n",
      "<class 'pandas.core.frame.DataFrame'>\n",
      "牙齿相关\n",
      "<class 'pandas.core.frame.DataFrame'>\n",
      "特殊疾病\n",
      "<class 'pandas.core.frame.DataFrame'>\n",
      "生长发育相关\n",
      "<class 'pandas.core.frame.DataFrame'>\n",
      "疫苗接种其它问题\n",
      "<class 'pandas.core.frame.DataFrame'>\n",
      "痔疮相关\n",
      "<class 'pandas.core.frame.DataFrame'>\n",
      "皮肤相关\n",
      "<class 'pandas.core.frame.DataFrame'>\n",
      "眼部相关问题\n",
      "<class 'pandas.core.frame.DataFrame'>\n",
      "睡觉、睡眠相关\n",
      "<class 'pandas.core.frame.DataFrame'>\n",
      "红屁股、尿布疹\n",
      "<class 'pandas.core.frame.DataFrame'>\n",
      "缺乏维生素相关\n",
      "<class 'pandas.core.frame.DataFrame'>\n",
      "耳朵相关\n",
      "<class 'pandas.core.frame.DataFrame'>\n",
      "肌张力相关\n",
      "<class 'pandas.core.frame.DataFrame'>\n",
      "胆道闭锁相关\n",
      "<class 'pandas.core.frame.DataFrame'>\n",
      "脐带相关\n",
      "<class 'pandas.core.frame.DataFrame'>\n",
      "腹泻相关\n",
      "<class 'pandas.core.frame.DataFrame'>\n",
      "腿部问题\n",
      "<class 'pandas.core.frame.DataFrame'>\n",
      "贫血相关\n",
      "<class 'pandas.core.frame.DataFrame'>\n",
      "鞘膜积液\n",
      "<class 'pandas.core.frame.DataFrame'>\n",
      "黄疸\n",
      "<class 'pandas.core.frame.DataFrame'>\n"
     ]
    }
   ],
   "source": [
    "for name, group in symptom:\n",
    "    print(name)\n",
    "    print(type(group))"
   ]
  },
  {
   "cell_type": "code",
   "execution_count": 38,
   "metadata": {
    "collapsed": false
   },
   "outputs": [
    {
     "name": "stdout",
     "output_type": "stream",
     "text": [
      "department\n"
     ]
    }
   ],
   "source": [
    "for i in data:\n",
    "    print(i)\n",
    "    break"
   ]
  },
  {
   "cell_type": "code",
   "execution_count": 43,
   "metadata": {
    "collapsed": false
   },
   "outputs": [
    {
     "ename": "TypeError",
     "evalue": "tuple indices must be integers or slices, not str",
     "output_type": "error",
     "traceback": [
      "\u001b[0;31m---------------------------------------------------------------------------\u001b[0m",
      "\u001b[0;31mTypeError\u001b[0m                                 Traceback (most recent call last)",
      "\u001b[0;32m<ipython-input-43-acad195dcfa0>\u001b[0m in \u001b[0;36m<module>\u001b[0;34m()\u001b[0m\n\u001b[1;32m      1\u001b[0m \u001b[0;32mfor\u001b[0m \u001b[0mrow\u001b[0m \u001b[0;32min\u001b[0m \u001b[0mdata\u001b[0m\u001b[0;34m.\u001b[0m\u001b[0miterrows\u001b[0m\u001b[0;34m(\u001b[0m\u001b[0;34m)\u001b[0m\u001b[0;34m:\u001b[0m\u001b[0;34m\u001b[0m\u001b[0m\n\u001b[0;32m----> 2\u001b[0;31m     \u001b[0mprint\u001b[0m\u001b[0;34m(\u001b[0m\u001b[0mrow\u001b[0m\u001b[0;34m[\u001b[0m\u001b[0;34m'department'\u001b[0m\u001b[0;34m]\u001b[0m\u001b[0;34m)\u001b[0m\u001b[0;34m\u001b[0m\u001b[0m\n\u001b[0m\u001b[1;32m      3\u001b[0m     \u001b[0;32mbreak\u001b[0m\u001b[0;34m\u001b[0m\u001b[0m\n",
      "\u001b[0;31mTypeError\u001b[0m: tuple indices must be integers or slices, not str"
     ]
    }
   ],
   "source": [
    "for row in data.iterrows():\n",
    "    print(row['department'])\n",
    "    break"
   ]
  },
  {
   "cell_type": "code",
   "execution_count": 45,
   "metadata": {
    "collapsed": false
   },
   "outputs": [
    {
     "name": "stdout",
     "output_type": "stream",
     "text": [
      "儿科\n"
     ]
    }
   ],
   "source": [
    "for ix, row in data.iterrows():\n",
    "    print(row['department'])\n",
    "    break"
   ]
  },
  {
   "cell_type": "code",
   "execution_count": null,
   "metadata": {
    "collapsed": true
   },
   "outputs": [],
   "source": []
  }
 ],
 "metadata": {
  "kernelspec": {
   "display_name": "Python 3",
   "language": "python",
   "name": "python3"
  },
  "language_info": {
   "codemirror_mode": {
    "name": "ipython",
    "version": 3
   },
   "file_extension": ".py",
   "mimetype": "text/x-python",
   "name": "python",
   "nbconvert_exporter": "python",
   "pygments_lexer": "ipython3",
   "version": "3.6.0"
  }
 },
 "nbformat": 4,
 "nbformat_minor": 2
}
